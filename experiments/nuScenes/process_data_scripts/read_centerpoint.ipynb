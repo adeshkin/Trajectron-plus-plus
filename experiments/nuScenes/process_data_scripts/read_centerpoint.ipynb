{
 "cells": [
  {
   "cell_type": "code",
   "execution_count": 2,
   "id": "e5822c06",
   "metadata": {},
   "outputs": [
    {
     "data": {
      "text/plain": [
       "['stone_flower_add_2021-08-20-11-35-18_5_42_56.json',\n",
       " 'stone_flower_add_2021-08-20-11-33-48_4_52_67.json',\n",
       " 'stone_flower_add_2021-08-20-11-39-48_8_15_40.json',\n",
       " 'stone_flower_add_2021-08-20-11-44-18_11_15_32.json',\n",
       " 'stone_flower_add_2021-08-20-11-38-18_7_72_90.json',\n",
       " 'stone_flower_add_2021-08-20-11-42-48_10_78_90.json',\n",
       " 'stone_flower_add_2021-08-20-11-35-18_5_67_75.json',\n",
       " 'stone_flower_add_2021-08-20-11-36-48_6_29_80.json']"
      ]
     },
     "execution_count": 2,
     "metadata": {},
     "output_type": "execute_result"
    }
   ],
   "source": [
    "import os\n",
    "import json\n",
    "\n",
    "data_dir = '/home/cds-k/Desktop/centerpoint_out/motion_prediciton_validation_2.5Hz/validation'\n",
    "filenames = os.listdir(data_dir)\n",
    "filenames"
   ]
  },
  {
   "cell_type": "code",
   "execution_count": 18,
   "id": "6d5261cc",
   "metadata": {},
   "outputs": [],
   "source": [
    "import math\n",
    "import numpy as np\n",
    "\n",
    "label2num = dict()\n",
    "len_set = set()\n",
    "scenes = set()\n",
    "for filename in filenames:\n",
    "    with open(f'{data_dir}/{filename}', 'r') as f:\n",
    "        data = json.load(f)\n",
    "        \n",
    "    for i, scene_id in enumerate(data):\n",
    "        objects = data[scene_id]['objects']\n",
    "        target_id = data[scene_id]['target_id']\n",
    "        target_traj = data[scene_id]['target']\n",
    "        if np.isnan(target_traj).any():\n",
    "            print(target_traj)\n",
    "        sample_id = data[scene_id]['sample_id']\n",
    "        scenes.add(sample_id)\n",
    "        for object_id in objects:\n",
    "            object_ = objects[object_id]\n",
    "            width, length, height = object_['object_dimensions']\n",
    "            traj = object_['object_trajectory']\n",
    "            label = object_['object_label']            \n",
    "            rotation = object_['object_rotation']\n",
    "            yaw = [rot[-1] for rot in rotation]\n",
    "                \n",
    "            len_set.add(len(yaw))\n",
    "            if label not in label2num:\n",
    "                label2num[label] = 0\n",
    "            label2num[label] += 1"
   ]
  },
  {
   "cell_type": "code",
   "execution_count": 13,
   "id": "3359053c",
   "metadata": {},
   "outputs": [
    {
     "data": {
      "text/plain": [
       "{'пешеход': 53815, 'человек на самокате': 3424, 'велосипедист': 1435}"
      ]
     },
     "execution_count": 13,
     "metadata": {},
     "output_type": "execute_result"
    }
   ],
   "source": [
    "label2num"
   ]
  },
  {
   "cell_type": "code",
   "execution_count": 17,
   "id": "132cbf6d",
   "metadata": {},
   "outputs": [
    {
     "data": {
      "text/plain": [
       "[[1.9060298145019317, 1.8648796907842005],\n",
       " [1.20499057433243, 1.845222163946811],\n",
       " [0.6310493028404341, 1.9219903262441747],\n",
       " [-0.2650406863705592, 1.95044351415267],\n",
       " [-0.863410163895639, 1.758512293099219],\n",
       " [-1.6162859302959292, 1.7156462868456344],\n",
       " [-2.210512927755884, 1.4271188875680643],\n",
       " [-2.915985332751499, 1.255434554762204],\n",
       " [-3.5518214865249704, 1.183634641441297],\n",
       " [-4.192085667079546, 1.1007968583974685],\n",
       " [-4.7710854573375725, 0.950474561228369],\n",
       " [-5.271790184891329, 0.8757048642232713],\n",
       " [-5.855063233272228, 0.8396940352179576]]"
      ]
     },
     "execution_count": 17,
     "metadata": {},
     "output_type": "execute_result"
    }
   ],
   "source": [
    "target_traj"
   ]
  },
  {
   "cell_type": "code",
   "execution_count": null,
   "id": "a1ea2816",
   "metadata": {},
   "outputs": [],
   "source": []
  }
 ],
 "metadata": {
  "kernelspec": {
   "display_name": "Python 3",
   "language": "python",
   "name": "python3"
  },
  "language_info": {
   "codemirror_mode": {
    "name": "ipython",
    "version": 3
   },
   "file_extension": ".py",
   "mimetype": "text/x-python",
   "name": "python",
   "nbconvert_exporter": "python",
   "pygments_lexer": "ipython3",
   "version": "3.6.13"
  }
 },
 "nbformat": 4,
 "nbformat_minor": 5
}
