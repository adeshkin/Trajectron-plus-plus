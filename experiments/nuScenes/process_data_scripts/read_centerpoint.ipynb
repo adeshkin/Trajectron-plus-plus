{
 "cells": [
  {
   "cell_type": "code",
   "execution_count": 98,
   "id": "0b2e1aa4",
   "metadata": {},
   "outputs": [],
   "source": [
    "import os\n",
    "import json\n",
    "\n",
    "data_dir = '/home/cds-k/Desktop/centerpoint_out/motion_prediciton_validation_2.5Hz/raw'\n",
    "filenames = os.listdir(data_dir)"
   ]
  },
  {
   "cell_type": "code",
   "execution_count": 99,
   "id": "a74b2fe0",
   "metadata": {},
   "outputs": [
    {
     "name": "stdout",
     "output_type": "stream",
     "text": [
      "[[0.0, 0.0, -0.06376974085115263]]\n",
      "[-0.06376974085115263]\n"
     ]
    }
   ],
   "source": [
    "label2num = dict()\n",
    "\n",
    "for filename in filenames:\n",
    "    with open(f'{data_dir}/{filename}', 'r') as f:\n",
    "        data = json.load(f)\n",
    "        \n",
    "    for i, scene_id in enumerate(data):\n",
    "        objects = data[scene_id]['objects']\n",
    "        target_id = data[scene_id]['target_id']\n",
    "        target_traj = data[scene_id]['target']\n",
    "        sample_id = data[scene_id]['sample_id']\n",
    "        for object_id in objects:\n",
    "            object_ = objects[object_id]\n",
    "            width, length, height = object_['object_dimensions']\n",
    "            traj = object_['object_trajectory']\n",
    "            label = object_['object_label']            \n",
    "            rotation = object_['object_rotation']\n",
    "            yaw = [rot[-1] for rot in rotation]\n",
    "\n",
    "            if label not in label2num:\n",
    "                label2num[label] = 0\n",
    "            label2num[label] += 1\n",
    "            \n",
    "            break\n",
    "        break\n",
    "    break"
   ]
  },
  {
   "cell_type": "code",
   "execution_count": null,
   "id": "0a5ea936",
   "metadata": {},
   "outputs": [],
   "source": []
  }
 ],
 "metadata": {
  "kernelspec": {
   "display_name": "Python 3",
   "language": "python",
   "name": "python3"
  },
  "language_info": {
   "codemirror_mode": {
    "name": "ipython",
    "version": 3
   },
   "file_extension": ".py",
   "mimetype": "text/x-python",
   "name": "python",
   "nbconvert_exporter": "python",
   "pygments_lexer": "ipython3",
   "version": "3.6.13"
  }
 },
 "nbformat": 4,
 "nbformat_minor": 5
}
