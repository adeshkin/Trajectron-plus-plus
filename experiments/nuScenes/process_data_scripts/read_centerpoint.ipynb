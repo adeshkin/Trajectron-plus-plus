{
 "cells": [
  {
   "cell_type": "code",
   "execution_count": 7,
   "id": "2926e5c9",
   "metadata": {},
   "outputs": [
    {
     "data": {
      "text/plain": [
       "['stone_flower_add_2021-08-20-11-35-18_5_42_56.json',\n",
       " 'stone_flower_add_2021-08-20-11-33-48_4_52_67.json',\n",
       " 'stone_flower_add_2021-08-20-11-39-48_8_15_40.json',\n",
       " 'stone_flower_add_2021-08-20-11-44-18_11_15_32.json',\n",
       " 'stone_flower_add_2021-08-20-11-38-18_7_72_90.json',\n",
       " 'stone_flower_add_2021-08-20-11-42-48_10_78_90.json',\n",
       " 'stone_flower_add_2021-08-20-11-35-18_5_67_75.json',\n",
       " 'stone_flower_add_2021-08-20-11-36-48_6_29_80.json']"
      ]
     },
     "execution_count": 7,
     "metadata": {},
     "output_type": "execute_result"
    }
   ],
   "source": [
    "import os\n",
    "import json\n",
    "\n",
    "data_dir = '/home/cds-k/Desktop/centerpoint_out/motion_prediciton_validation_2.5Hz/validation'\n",
    "filenames = os.listdir(data_dir)\n",
    "filenames"
   ]
  },
  {
   "cell_type": "code",
   "execution_count": 12,
   "id": "71887d10",
   "metadata": {},
   "outputs": [],
   "source": [
    "label2num = dict()\n",
    "len_set = set()\n",
    "for filename in filenames:\n",
    "    with open(f'{data_dir}/{filename}', 'r') as f:\n",
    "        data = json.load(f)\n",
    "        \n",
    "    for i, scene_id in enumerate(data):\n",
    "        objects = data[scene_id]['objects']\n",
    "        target_id = data[scene_id]['target_id']\n",
    "        target_traj = data[scene_id]['target']\n",
    "        sample_id = data[scene_id]['sample_id']\n",
    "        for object_id in objects:\n",
    "            object_ = objects[object_id]\n",
    "            width, length, height = object_['object_dimensions']\n",
    "            traj = object_['object_trajectory']\n",
    "            label = object_['object_label']            \n",
    "            rotation = object_['object_rotation']\n",
    "            yaw = [rot[-1] for rot in rotation]\n",
    "            len_set.add(len(yaw))\n",
    "            if label not in label2num:\n",
    "                label2num[label] = 0\n",
    "            label2num[label] += 1"
   ]
  },
  {
   "cell_type": "code",
   "execution_count": 13,
   "id": "00e1f0d1",
   "metadata": {},
   "outputs": [
    {
     "data": {
      "text/plain": [
       "{'пешеход': 53815, 'человек на самокате': 3424, 'велосипедист': 1435}"
      ]
     },
     "execution_count": 13,
     "metadata": {},
     "output_type": "execute_result"
    }
   ],
   "source": [
    "label2num"
   ]
  },
  {
   "cell_type": "code",
   "execution_count": 14,
   "id": "6f28e43c",
   "metadata": {},
   "outputs": [
    {
     "data": {
      "text/plain": [
       "6"
      ]
     },
     "execution_count": 14,
     "metadata": {},
     "output_type": "execute_result"
    }
   ],
   "source": [
    "len(len_set)"
   ]
  },
  {
   "cell_type": "code",
   "execution_count": 15,
   "id": "72f283f5",
   "metadata": {},
   "outputs": [
    {
     "data": {
      "text/plain": [
       "[[4.388314991196577, -3.244021040260415],\n",
       " [5.548408160790734, -3.3274578451246457],\n",
       " [7.00517685364126, -3.4689543272026837],\n",
       " [8.141891744570525, -3.4650845705631985],\n",
       " [9.640950440743893, -3.55392496777589],\n",
       " [11.187518061573295, -3.428219303654799]]"
      ]
     },
     "execution_count": 15,
     "metadata": {},
     "output_type": "execute_result"
    }
   ],
   "source": [
    "traj"
   ]
  },
  {
   "cell_type": "code",
   "execution_count": null,
   "id": "54e6c2e7",
   "metadata": {},
   "outputs": [],
   "source": []
  }
 ],
 "metadata": {
  "kernelspec": {
   "display_name": "Python 3",
   "language": "python",
   "name": "python3"
  },
  "language_info": {
   "codemirror_mode": {
    "name": "ipython",
    "version": 3
   },
   "file_extension": ".py",
   "mimetype": "text/x-python",
   "name": "python",
   "nbconvert_exporter": "python",
   "pygments_lexer": "ipython3",
   "version": "3.6.13"
  }
 },
 "nbformat": 4,
 "nbformat_minor": 5
}
