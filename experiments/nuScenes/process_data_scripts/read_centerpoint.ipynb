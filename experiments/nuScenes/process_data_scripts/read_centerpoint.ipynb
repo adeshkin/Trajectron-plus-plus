{
 "cells": [
  {
   "cell_type": "code",
   "execution_count": 14,
   "id": "6311a57a",
   "metadata": {},
   "outputs": [
    {
     "data": {
      "text/plain": [
       "['stone_flower_add_2021-08-20-11-35-18_5_42_56.json',\n",
       " 'stone_flower_add_2021-08-20-11-33-48_4_52_67.json',\n",
       " 'stone_flower_add_2021-08-20-11-39-48_8_15_40.json',\n",
       " 'stone_flower_add_2021-08-20-11-44-18_11_15_32.json',\n",
       " 'stone_flower_add_2021-08-20-11-38-18_7_72_90.json',\n",
       " 'stone_flower_add_2021-08-20-11-42-48_10_78_90.json',\n",
       " 'stone_flower_add_2021-08-20-11-35-18_5_67_75.json',\n",
       " 'stone_flower_add_2021-08-20-11-36-48_6_29_80.json']"
      ]
     },
     "execution_count": 14,
     "metadata": {},
     "output_type": "execute_result"
    }
   ],
   "source": [
    "import os\n",
    "import json\n",
    "\n",
    "data_dir = '/home/cds-k/Desktop/motion_prediction/motion_prediction_validation/validation'\n",
    "filenames = os.listdir(data_dir)\n",
    "filenames"
   ]
  },
  {
   "cell_type": "code",
   "execution_count": 26,
   "id": "e1458700",
   "metadata": {},
   "outputs": [
    {
     "name": "stdout",
     "output_type": "stream",
     "text": [
      "0.7890635978725126\n"
     ]
    }
   ],
   "source": [
    "import numpy as np\n",
    "\n",
    "label2num = dict()\n",
    "len_set = set()\n",
    "\n",
    "\n",
    "for filename in filenames:\n",
    "    with open(f'{data_dir}/{filename}', 'r') as f:\n",
    "        data = json.load(f)\n",
    "        \n",
    "    for i, scene_id in enumerate(data):\n",
    "        objects = data[scene_id]['objects']\n",
    "        target_id = data[scene_id]['target_id']\n",
    "        target_traj = data[scene_id]['target']\n",
    "        sample_id = data[scene_id]['sample_id']\n",
    "        \n",
    "        for object_id in objects:\n",
    "            object_ = objects[object_id]\n",
    "            width, length, height = object_['object_dimensions']\n",
    "            traj = object_['object_trajectory']\n",
    "            label = object_['object_label']            \n",
    "            rotation = object_['object_rotation']\n",
    "            \n",
    "            yaw = [rot[-1] for rot in rotation.values()]\n",
    "            len_set.add(len(yaw))\n",
    "            print(width)\n",
    "            \n",
    "            if label not in label2num:\n",
    "                label2num[label] = 0\n",
    "            label2num[label] += 1\n",
    "            break\n",
    "        break\n",
    "    break"
   ]
  },
  {
   "cell_type": "code",
   "execution_count": 34,
   "id": "3bf3ddb1",
   "metadata": {},
   "outputs": [
    {
     "data": {
      "text/plain": [
       "[[-6.269543774351819, -1.3191224038544425],\n",
       " [-6.183033651809141, -1.533374203925299],\n",
       " [-6.099318138872383, -1.6689815746405825],\n",
       " [-6.057394974581971, -1.811108026703775],\n",
       " [-5.993831967042811, -1.9285912630985547],\n",
       " [-5.922194834953012, -2.0790556782610246],\n",
       " [-5.81179271758712, -2.2450767662756417],\n",
       " [-5.75738453682867, -2.361291326595354],\n",
       " [-5.8439634424795885, -2.3487975636915586],\n",
       " [-5.824414442318476, -2.3211952745328093]]"
      ]
     },
     "execution_count": 34,
     "metadata": {},
     "output_type": "execute_result"
    }
   ],
   "source": [
    "target_traj"
   ]
  },
  {
   "cell_type": "code",
   "execution_count": null,
   "id": "a6be5aa4",
   "metadata": {},
   "outputs": [],
   "source": []
  }
 ],
 "metadata": {
  "kernelspec": {
   "display_name": "Python 3",
   "language": "python",
   "name": "python3"
  },
  "language_info": {
   "codemirror_mode": {
    "name": "ipython",
    "version": 3
   },
   "file_extension": ".py",
   "mimetype": "text/x-python",
   "name": "python",
   "nbconvert_exporter": "python",
   "pygments_lexer": "ipython3",
   "version": "3.6.13"
  }
 },
 "nbformat": 4,
 "nbformat_minor": 5
}
