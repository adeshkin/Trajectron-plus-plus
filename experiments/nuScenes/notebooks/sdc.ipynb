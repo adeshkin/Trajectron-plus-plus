{
 "cells": [
  {
   "cell_type": "code",
   "execution_count": 1,
   "id": "2b65b5f5",
   "metadata": {},
   "outputs": [],
   "source": [
    "filename = '/media/cds-k/Data_2/canonical-trn-dev-data/data/validation_tags.txt'\n",
    "\n",
    "data = []\n",
    "with open(filename, 'r') as f:\n",
    "    for line in f:\n",
    "        data.append(line)"
   ]
  },
  {
   "cell_type": "code",
   "execution_count": 2,
   "id": "267d4b7e",
   "metadata": {},
   "outputs": [
    {
     "data": {
      "text/plain": [
       "36605"
      ]
     },
     "execution_count": 2,
     "metadata": {},
     "output_type": "execute_result"
    }
   ],
   "source": [
    "len(data)"
   ]
  },
  {
   "cell_type": "code",
   "execution_count": null,
   "id": "235afae3",
   "metadata": {},
   "outputs": [],
   "source": []
  }
 ],
 "metadata": {
  "kernelspec": {
   "display_name": "Python 3.6 (Traj++)",
   "language": "python",
   "name": "trajpp"
  },
  "language_info": {
   "codemirror_mode": {
    "name": "ipython",
    "version": 3
   },
   "file_extension": ".py",
   "mimetype": "text/x-python",
   "name": "python",
   "nbconvert_exporter": "python",
   "pygments_lexer": "ipython3",
   "version": "3.6.13"
  }
 },
 "nbformat": 4,
 "nbformat_minor": 5
}
