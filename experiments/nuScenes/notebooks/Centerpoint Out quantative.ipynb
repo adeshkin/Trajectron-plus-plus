{
 "cells": [
  {
   "cell_type": "code",
   "execution_count": 9,
   "id": "352aaa2b",
   "metadata": {},
   "outputs": [],
   "source": [
    "import pandas as pd\n",
    "import numpy as np\n",
    "import glob\n",
    "import os"
   ]
  },
  {
   "cell_type": "code",
   "execution_count": 10,
   "id": "9c1befff",
   "metadata": {},
   "outputs": [],
   "source": [
    "model = 'int_ee_ph_10_maxhl_4'\n",
    "results_dir = f'/home/cds-k/Desktop/centerpoint_out/motion_prediction_validation_2Hz/results'\n",
    "tracks = sorted(os.listdir(results_dir))"
   ]
  },
  {
   "cell_type": "code",
   "execution_count": 11,
   "id": "48cc701e",
   "metadata": {},
   "outputs": [
    {
     "data": {
      "text/plain": [
       "['stone_flower_add_2021-08-20-11-33-48_4_52_67',\n",
       " 'stone_flower_add_2021-08-20-11-35-18_5_42_56',\n",
       " 'stone_flower_add_2021-08-20-11-35-18_5_67_75',\n",
       " 'stone_flower_add_2021-08-20-11-36-48_6_29_80',\n",
       " 'stone_flower_add_2021-08-20-11-38-18_7_72_90',\n",
       " 'stone_flower_add_2021-08-20-11-39-48_8_15_40',\n",
       " 'stone_flower_add_2021-08-20-11-42-48_10_78_90',\n",
       " 'stone_flower_add_2021-08-20-11-44-18_11_15_32']"
      ]
     },
     "execution_count": 11,
     "metadata": {},
     "output_type": "execute_result"
    }
   ],
   "source": [
    "tracks"
   ]
  },
  {
   "cell_type": "code",
   "execution_count": 12,
   "id": "ea1f3c34",
   "metadata": {},
   "outputs": [],
   "source": [
    "results_fde = dict()\n",
    "results_ade = dict()\n",
    "\n",
    "for track in tracks:\n",
    "    results_fde[track] = list()\n",
    "    results_ade[track] = list()\n",
    "    #print(f\"Results for: {model}\")\n",
    "    for ph in [2, 4, 6, 8, 10]:\n",
    "        # print(f\"-----------------PH: {ph} -------------------\")\n",
    "        perf_df = pd.DataFrame()\n",
    "        for f in glob.glob(f\"{results_dir}/{track}/{model}*_{ph}_fde_most_likely_z.csv\"):\n",
    "            dataset_df = pd.read_csv(f)\n",
    "            perf_df = perf_df.append(dataset_df, ignore_index=True)\n",
    "        del perf_df['Unnamed: 0']\n",
    "        value = perf_df['value'][perf_df['type'] == 'ml'].mean()\n",
    "        results_fde[track].append(value)\n",
    "        # print(f\"FDE @{ph*0.5}s: {value}\")      \n",
    "        del perf_df\n",
    "        \n",
    "        perf_df = pd.DataFrame()\n",
    "        for f in glob.glob(f\"{results_dir}/{track}/{model}*_{ph}_ade_most_likely_z.csv\"):\n",
    "            dataset_df = pd.read_csv(f)\n",
    "            perf_df = perf_df.append(dataset_df, ignore_index=True)\n",
    "        del perf_df['Unnamed: 0']\n",
    "        value = perf_df['value'][perf_df['type'] == 'ml'].mean()\n",
    "        results_ade[track].append(value)  \n",
    "        # print(f\"ADE @{ph*0.5}s: {value}\")\n",
    "        del perf_df "
   ]
  },
  {
   "cell_type": "code",
   "execution_count": 13,
   "id": "2bc17c3b",
   "metadata": {},
   "outputs": [
    {
     "data": {
      "text/html": [
       "<div>\n",
       "<style scoped>\n",
       "    .dataframe tbody tr th:only-of-type {\n",
       "        vertical-align: middle;\n",
       "    }\n",
       "\n",
       "    .dataframe tbody tr th {\n",
       "        vertical-align: top;\n",
       "    }\n",
       "\n",
       "    .dataframe thead th {\n",
       "        text-align: right;\n",
       "    }\n",
       "</style>\n",
       "<table border=\"1\" class=\"dataframe\">\n",
       "  <thead>\n",
       "    <tr style=\"text-align: right;\">\n",
       "      <th></th>\n",
       "      <th>@1s</th>\n",
       "      <th>@2s</th>\n",
       "      <th>@3s</th>\n",
       "      <th>@4s</th>\n",
       "      <th>@5s</th>\n",
       "    </tr>\n",
       "  </thead>\n",
       "  <tbody>\n",
       "    <tr>\n",
       "      <td>stone_flower_add_2021-08-20-11-33-48_4_52_67</td>\n",
       "      <td>0.779291</td>\n",
       "      <td>1.501054</td>\n",
       "      <td>2.303909</td>\n",
       "      <td>3.124779</td>\n",
       "      <td>3.956684</td>\n",
       "    </tr>\n",
       "    <tr>\n",
       "      <td>stone_flower_add_2021-08-20-11-35-18_5_42_56</td>\n",
       "      <td>0.679443</td>\n",
       "      <td>1.287270</td>\n",
       "      <td>1.965054</td>\n",
       "      <td>2.691107</td>\n",
       "      <td>3.455987</td>\n",
       "    </tr>\n",
       "    <tr>\n",
       "      <td>stone_flower_add_2021-08-20-11-35-18_5_67_75</td>\n",
       "      <td>0.736684</td>\n",
       "      <td>1.478850</td>\n",
       "      <td>2.946718</td>\n",
       "      <td>4.997508</td>\n",
       "      <td>7.219014</td>\n",
       "    </tr>\n",
       "    <tr>\n",
       "      <td>stone_flower_add_2021-08-20-11-36-48_6_29_80</td>\n",
       "      <td>0.627432</td>\n",
       "      <td>1.219179</td>\n",
       "      <td>1.858250</td>\n",
       "      <td>2.514388</td>\n",
       "      <td>3.225197</td>\n",
       "    </tr>\n",
       "    <tr>\n",
       "      <td>stone_flower_add_2021-08-20-11-38-18_7_72_90</td>\n",
       "      <td>0.722923</td>\n",
       "      <td>1.383768</td>\n",
       "      <td>2.103576</td>\n",
       "      <td>2.830969</td>\n",
       "      <td>3.566159</td>\n",
       "    </tr>\n",
       "    <tr>\n",
       "      <td>stone_flower_add_2021-08-20-11-39-48_8_15_40</td>\n",
       "      <td>0.727058</td>\n",
       "      <td>1.446527</td>\n",
       "      <td>2.305186</td>\n",
       "      <td>3.275028</td>\n",
       "      <td>4.326018</td>\n",
       "    </tr>\n",
       "    <tr>\n",
       "      <td>stone_flower_add_2021-08-20-11-42-48_10_78_90</td>\n",
       "      <td>0.737615</td>\n",
       "      <td>1.607634</td>\n",
       "      <td>2.687946</td>\n",
       "      <td>3.847654</td>\n",
       "      <td>5.003445</td>\n",
       "    </tr>\n",
       "    <tr>\n",
       "      <td>stone_flower_add_2021-08-20-11-44-18_11_15_32</td>\n",
       "      <td>1.438157</td>\n",
       "      <td>2.335887</td>\n",
       "      <td>3.165007</td>\n",
       "      <td>3.934462</td>\n",
       "      <td>4.544070</td>\n",
       "    </tr>\n",
       "  </tbody>\n",
       "</table>\n",
       "</div>"
      ],
      "text/plain": [
       "                                                    @1s       @2s       @3s  \\\n",
       "stone_flower_add_2021-08-20-11-33-48_4_52_67   0.779291  1.501054  2.303909   \n",
       "stone_flower_add_2021-08-20-11-35-18_5_42_56   0.679443  1.287270  1.965054   \n",
       "stone_flower_add_2021-08-20-11-35-18_5_67_75   0.736684  1.478850  2.946718   \n",
       "stone_flower_add_2021-08-20-11-36-48_6_29_80   0.627432  1.219179  1.858250   \n",
       "stone_flower_add_2021-08-20-11-38-18_7_72_90   0.722923  1.383768  2.103576   \n",
       "stone_flower_add_2021-08-20-11-39-48_8_15_40   0.727058  1.446527  2.305186   \n",
       "stone_flower_add_2021-08-20-11-42-48_10_78_90  0.737615  1.607634  2.687946   \n",
       "stone_flower_add_2021-08-20-11-44-18_11_15_32  1.438157  2.335887  3.165007   \n",
       "\n",
       "                                                    @4s       @5s  \n",
       "stone_flower_add_2021-08-20-11-33-48_4_52_67   3.124779  3.956684  \n",
       "stone_flower_add_2021-08-20-11-35-18_5_42_56   2.691107  3.455987  \n",
       "stone_flower_add_2021-08-20-11-35-18_5_67_75   4.997508  7.219014  \n",
       "stone_flower_add_2021-08-20-11-36-48_6_29_80   2.514388  3.225197  \n",
       "stone_flower_add_2021-08-20-11-38-18_7_72_90   2.830969  3.566159  \n",
       "stone_flower_add_2021-08-20-11-39-48_8_15_40   3.275028  4.326018  \n",
       "stone_flower_add_2021-08-20-11-42-48_10_78_90  3.847654  5.003445  \n",
       "stone_flower_add_2021-08-20-11-44-18_11_15_32  3.934462  4.544070  "
      ]
     },
     "execution_count": 13,
     "metadata": {},
     "output_type": "execute_result"
    }
   ],
   "source": [
    "fde_df = pd.DataFrame.from_dict(results_fde, orient='index', columns=['@1s', '@2s', '@3s', '@4s', '@5s'])\n",
    "fde_df"
   ]
  },
  {
   "cell_type": "code",
   "execution_count": 14,
   "id": "cf63ce5e",
   "metadata": {},
   "outputs": [
    {
     "data": {
      "text/html": [
       "<div>\n",
       "<style scoped>\n",
       "    .dataframe tbody tr th:only-of-type {\n",
       "        vertical-align: middle;\n",
       "    }\n",
       "\n",
       "    .dataframe tbody tr th {\n",
       "        vertical-align: top;\n",
       "    }\n",
       "\n",
       "    .dataframe thead th {\n",
       "        text-align: right;\n",
       "    }\n",
       "</style>\n",
       "<table border=\"1\" class=\"dataframe\">\n",
       "  <thead>\n",
       "    <tr style=\"text-align: right;\">\n",
       "      <th></th>\n",
       "      <th>@1s</th>\n",
       "      <th>@2s</th>\n",
       "      <th>@3s</th>\n",
       "      <th>@4s</th>\n",
       "      <th>@5s</th>\n",
       "    </tr>\n",
       "  </thead>\n",
       "  <tbody>\n",
       "    <tr>\n",
       "      <td>stone_flower_add_2021-08-20-11-33-48_4_52_67</td>\n",
       "      <td>0.600098</td>\n",
       "      <td>0.951987</td>\n",
       "      <td>1.335023</td>\n",
       "      <td>1.731225</td>\n",
       "      <td>2.134620</td>\n",
       "    </tr>\n",
       "    <tr>\n",
       "      <td>stone_flower_add_2021-08-20-11-35-18_5_42_56</td>\n",
       "      <td>0.525701</td>\n",
       "      <td>0.823621</td>\n",
       "      <td>1.147015</td>\n",
       "      <td>1.486648</td>\n",
       "      <td>1.841776</td>\n",
       "    </tr>\n",
       "    <tr>\n",
       "      <td>stone_flower_add_2021-08-20-11-35-18_5_67_75</td>\n",
       "      <td>0.617506</td>\n",
       "      <td>0.936802</td>\n",
       "      <td>1.468509</td>\n",
       "      <td>2.218635</td>\n",
       "      <td>3.107468</td>\n",
       "    </tr>\n",
       "    <tr>\n",
       "      <td>stone_flower_add_2021-08-20-11-36-48_6_29_80</td>\n",
       "      <td>0.479971</td>\n",
       "      <td>0.770223</td>\n",
       "      <td>1.079527</td>\n",
       "      <td>1.396491</td>\n",
       "      <td>1.726115</td>\n",
       "    </tr>\n",
       "    <tr>\n",
       "      <td>stone_flower_add_2021-08-20-11-38-18_7_72_90</td>\n",
       "      <td>0.552974</td>\n",
       "      <td>0.879388</td>\n",
       "      <td>1.227293</td>\n",
       "      <td>1.582658</td>\n",
       "      <td>1.942357</td>\n",
       "    </tr>\n",
       "    <tr>\n",
       "      <td>stone_flower_add_2021-08-20-11-39-48_8_15_40</td>\n",
       "      <td>0.553781</td>\n",
       "      <td>0.901112</td>\n",
       "      <td>1.295505</td>\n",
       "      <td>1.728350</td>\n",
       "      <td>2.194330</td>\n",
       "    </tr>\n",
       "    <tr>\n",
       "      <td>stone_flower_add_2021-08-20-11-42-48_10_78_90</td>\n",
       "      <td>0.554521</td>\n",
       "      <td>0.960006</td>\n",
       "      <td>1.443652</td>\n",
       "      <td>1.971696</td>\n",
       "      <td>2.521009</td>\n",
       "    </tr>\n",
       "    <tr>\n",
       "      <td>stone_flower_add_2021-08-20-11-44-18_11_15_32</td>\n",
       "      <td>1.117182</td>\n",
       "      <td>1.619231</td>\n",
       "      <td>2.064866</td>\n",
       "      <td>2.486528</td>\n",
       "      <td>2.868524</td>\n",
       "    </tr>\n",
       "  </tbody>\n",
       "</table>\n",
       "</div>"
      ],
      "text/plain": [
       "                                                    @1s       @2s       @3s  \\\n",
       "stone_flower_add_2021-08-20-11-33-48_4_52_67   0.600098  0.951987  1.335023   \n",
       "stone_flower_add_2021-08-20-11-35-18_5_42_56   0.525701  0.823621  1.147015   \n",
       "stone_flower_add_2021-08-20-11-35-18_5_67_75   0.617506  0.936802  1.468509   \n",
       "stone_flower_add_2021-08-20-11-36-48_6_29_80   0.479971  0.770223  1.079527   \n",
       "stone_flower_add_2021-08-20-11-38-18_7_72_90   0.552974  0.879388  1.227293   \n",
       "stone_flower_add_2021-08-20-11-39-48_8_15_40   0.553781  0.901112  1.295505   \n",
       "stone_flower_add_2021-08-20-11-42-48_10_78_90  0.554521  0.960006  1.443652   \n",
       "stone_flower_add_2021-08-20-11-44-18_11_15_32  1.117182  1.619231  2.064866   \n",
       "\n",
       "                                                    @4s       @5s  \n",
       "stone_flower_add_2021-08-20-11-33-48_4_52_67   1.731225  2.134620  \n",
       "stone_flower_add_2021-08-20-11-35-18_5_42_56   1.486648  1.841776  \n",
       "stone_flower_add_2021-08-20-11-35-18_5_67_75   2.218635  3.107468  \n",
       "stone_flower_add_2021-08-20-11-36-48_6_29_80   1.396491  1.726115  \n",
       "stone_flower_add_2021-08-20-11-38-18_7_72_90   1.582658  1.942357  \n",
       "stone_flower_add_2021-08-20-11-39-48_8_15_40   1.728350  2.194330  \n",
       "stone_flower_add_2021-08-20-11-42-48_10_78_90  1.971696  2.521009  \n",
       "stone_flower_add_2021-08-20-11-44-18_11_15_32  2.486528  2.868524  "
      ]
     },
     "execution_count": 14,
     "metadata": {},
     "output_type": "execute_result"
    }
   ],
   "source": [
    "ade_df = pd.DataFrame.from_dict(results_ade, orient='index', columns=['@1s', '@2s', '@3s', '@4s', '@5s'])\n",
    "ade_df"
   ]
  },
  {
   "cell_type": "code",
   "execution_count": 12,
   "id": "5c16b930",
   "metadata": {},
   "outputs": [
    {
     "data": {
      "text/plain": [
       "1.345"
      ]
     },
     "execution_count": 12,
     "metadata": {},
     "output_type": "execute_result"
    }
   ],
   "source": [
    "(0. + 1.98)/2"
   ]
  },
  {
   "cell_type": "code",
   "execution_count": 14,
   "id": "33fdc404",
   "metadata": {},
   "outputs": [
    {
     "data": {
      "text/plain": [
       "1.025"
      ]
     },
     "execution_count": 14,
     "metadata": {},
     "output_type": "execute_result"
    }
   ],
   "source": [
    "(0.07 + 1.98) / 2"
   ]
  },
  {
   "cell_type": "code",
   "execution_count": null,
   "id": "fcc69d64",
   "metadata": {},
   "outputs": [],
   "source": []
  }
 ],
 "metadata": {
  "kernelspec": {
   "display_name": "Python 3",
   "language": "python",
   "name": "python3"
  },
  "language_info": {
   "codemirror_mode": {
    "name": "ipython",
    "version": 3
   },
   "file_extension": ".py",
   "mimetype": "text/x-python",
   "name": "python",
   "nbconvert_exporter": "python",
   "pygments_lexer": "ipython3",
   "version": "3.6.13"
  }
 },
 "nbformat": 4,
 "nbformat_minor": 5
}
