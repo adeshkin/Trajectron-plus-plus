{
 "cells": [
  {
   "cell_type": "code",
   "execution_count": 1,
   "id": "15d8ed62",
   "metadata": {},
   "outputs": [
    {
     "name": "stderr",
     "output_type": "stream",
     "text": [
      "/home/cds-k/anaconda3/envs/traj_sdc_dataset/lib/python3.6/site-packages/ysdc_dataset_api/utils/transform.py:90: NumbaPerformanceWarning: '@' is faster on contiguous arrays, called on (array(float32, 2d, A), array(float32, 2d, C))\n",
      "  res = transform @ ph\n",
      "/home/cds-k/anaconda3/envs/traj_sdc_dataset/lib/python3.6/site-packages/numba/core/typing/npydecl.py:937: NumbaPerformanceWarning: '@' is faster on contiguous arrays, called on (array(float32, 2d, A), array(float32, 2d, C))\n",
      "  warnings.warn(NumbaPerformanceWarning(msg))\n"
     ]
    }
   ],
   "source": [
    "from ysdc_dataset_api.dataset import MotionPredictionDataset"
   ]
  },
  {
   "cell_type": "code",
   "execution_count": 2,
   "id": "03618c58",
   "metadata": {},
   "outputs": [],
   "source": [
    "# Load protobufs for training dataset\n",
    "dataset_path = '/media/cds-k/Data_2/canonical-trn-dev-data/data/train_pb/'\n",
    "\n",
    "# Path to file with training scene tags\n",
    "scene_tags_fpath = '/media/cds-k/Data_2/canonical-trn-dev-data/data/train_tags.txt'"
   ]
  },
  {
   "cell_type": "code",
   "execution_count": 3,
   "id": "2590553c",
   "metadata": {},
   "outputs": [],
   "source": [
    "import json\n",
    "with open('/home/cds-k/Desktop/motion_prediction/Trajectron-plus-plus/experiments/nuScenes/train_configs/config_ph_25_maxhl_24_minhl_24.json', 'r', encoding='utf-8') as conf_json:\n",
    "    hyperparams = json.load(conf_json)"
   ]
  },
  {
   "cell_type": "code",
   "execution_count": 4,
   "id": "793eaf79",
   "metadata": {},
   "outputs": [],
   "source": [
    "import numpy as np\n",
    "\n",
    "standardization = {\n",
    "    'PEDESTRIAN': {\n",
    "        'position': {\n",
    "            'x': {'mean': 0, 'std': 1},\n",
    "            'y': {'mean': 0, 'std': 1}\n",
    "        },\n",
    "        'velocity': {\n",
    "            'x': {'mean': 0, 'std': 2},\n",
    "            'y': {'mean': 0, 'std': 2}\n",
    "        },\n",
    "        'acceleration': {\n",
    "            'x': {'mean': 0, 'std': 1},\n",
    "            'y': {'mean': 0, 'std': 1}\n",
    "        }\n",
    "    },\n",
    "    'VEHICLE': {\n",
    "        'position': {\n",
    "            'x': {'mean': 0, 'std': 80},\n",
    "            'y': {'mean': 0, 'std': 80}\n",
    "        },\n",
    "        'velocity': {\n",
    "            'x': {'mean': 0, 'std': 15},\n",
    "            'y': {'mean': 0, 'std': 15},\n",
    "            'norm': {'mean': 0, 'std': 15}\n",
    "        },\n",
    "        'acceleration': {\n",
    "            'x': {'mean': 0, 'std': 4},\n",
    "            'y': {'mean': 0, 'std': 4},\n",
    "            'norm': {'mean': 0, 'std': 4}\n",
    "        },\n",
    "        'heading': {\n",
    "            'x': {'mean': 0, 'std': 1},\n",
    "            'y': {'mean': 0, 'std': 1},\n",
    "            '°': {'mean': 0, 'std': np.pi},\n",
    "            'd°': {'mean': 0, 'std': 1}\n",
    "        }\n",
    "    }\n",
    "}"
   ]
  },
  {
   "cell_type": "code",
   "execution_count": 5,
   "id": "9267b09a",
   "metadata": {},
   "outputs": [],
   "source": [
    "import sys\n",
    "sys.path.append(\"../../../trajectron\")\n",
    "from environment import Environment, Scene, Node\n",
    "from environment import derivative_of as derivative_of\n",
    "env = Environment(node_type_list=['VEHICLE', 'PEDESTRIAN'], standardization=standardization)\n",
    "attention_radius = dict()\n",
    "attention_radius[(env.NodeType.PEDESTRIAN, env.NodeType.PEDESTRIAN)] = 10.0\n",
    "attention_radius[(env.NodeType.PEDESTRIAN, env.NodeType.VEHICLE)] = 20.0\n",
    "attention_radius[(env.NodeType.VEHICLE, env.NodeType.PEDESTRIAN)] = 20.0\n",
    "attention_radius[(env.NodeType.VEHICLE, env.NodeType.VEHICLE)] = 30.0\n",
    "\n",
    "env.attention_radius = attention_radius\n"
   ]
  },
  {
   "cell_type": "code",
   "execution_count": 6,
   "id": "cd946120",
   "metadata": {},
   "outputs": [
    {
     "data": {
      "text/plain": [
       "VEHICLE"
      ]
     },
     "execution_count": 6,
     "metadata": {},
     "output_type": "execute_result"
    }
   ],
   "source": [
    "env.NodeType[0]"
   ]
  },
  {
   "cell_type": "code",
   "execution_count": 7,
   "id": "a2510957",
   "metadata": {},
   "outputs": [
    {
     "name": "stdout",
     "output_type": "stream",
     "text": [
      "388406/388406 scenes fit the filter criteria.\n"
     ]
    }
   ],
   "source": [
    "dataset = MotionPredictionDataset(\n",
    "    dataset_path=dataset_path,\n",
    "    scene_tags_fpath=scene_tags_fpath,\n",
    "    feature_producer=None,\n",
    "    transform_ground_truth_to_agent_frame=True,\n",
    "    hyperparams=hyperparams,\n",
    "    node_type=env.NodeType[0]\n",
    ")"
   ]
  },
  {
   "cell_type": "code",
   "execution_count": 8,
   "id": "bfbf3e20",
   "metadata": {},
   "outputs": [],
   "source": [
    "dataset_iter = iter(dataset)"
   ]
  },
  {
   "cell_type": "code",
   "execution_count": 9,
   "id": "7abc909a",
   "metadata": {},
   "outputs": [
    {
     "ename": "KeyError",
     "evalue": "'min_future_timesteps'",
     "output_type": "error",
     "traceback": [
      "\u001b[0;31m---------------------------------------------------------------------------\u001b[0m",
      "\u001b[0;31mKeyError\u001b[0m                                  Traceback (most recent call last)",
      "\u001b[0;32m<ipython-input-9-36981fc0c003>\u001b[0m in \u001b[0;36m<module>\u001b[0;34m\u001b[0m\n\u001b[1;32m      1\u001b[0m \u001b[0;32mfor\u001b[0m \u001b[0mi\u001b[0m \u001b[0;32min\u001b[0m \u001b[0mrange\u001b[0m\u001b[0;34m(\u001b[0m\u001b[0;36m1\u001b[0m\u001b[0;34m)\u001b[0m\u001b[0;34m:\u001b[0m\u001b[0;34m\u001b[0m\u001b[0;34m\u001b[0m\u001b[0m\n\u001b[0;32m----> 2\u001b[0;31m     \u001b[0mdata_item\u001b[0m \u001b[0;34m=\u001b[0m \u001b[0mnext\u001b[0m\u001b[0;34m(\u001b[0m\u001b[0mdataset_iter\u001b[0m\u001b[0;34m)\u001b[0m\u001b[0;34m\u001b[0m\u001b[0;34m\u001b[0m\u001b[0m\n\u001b[0m",
      "\u001b[0;32m~/anaconda3/envs/traj_sdc_dataset/lib/python3.6/site-packages/ysdc_dataset_api/dataset/dataset.py\u001b[0m in \u001b[0;36mdata_gen\u001b[0;34m(hyperparams, env, node_type, edge_types, _file_paths)\u001b[0m\n\u001b[1;32m    156\u001b[0m                                                                 \u001b[0medge_types\u001b[0m\u001b[0;34m,\u001b[0m\u001b[0;34m\u001b[0m\u001b[0;34m\u001b[0m\u001b[0m\n\u001b[1;32m    157\u001b[0m                                                                 \u001b[0mhyperparams\u001b[0m\u001b[0;34m[\u001b[0m\u001b[0;34m'maximum_history_length'\u001b[0m\u001b[0;34m]\u001b[0m\u001b[0;34m,\u001b[0m\u001b[0;34m\u001b[0m\u001b[0;34m\u001b[0m\u001b[0m\n\u001b[0;32m--> 158\u001b[0;31m                                                                 \u001b[0mhyperparams\u001b[0m\u001b[0;34m[\u001b[0m\u001b[0;34m'min_future_timesteps'\u001b[0m\u001b[0;34m]\u001b[0m\u001b[0;34m,\u001b[0m\u001b[0;34m\u001b[0m\u001b[0;34m\u001b[0m\u001b[0m\n\u001b[0m\u001b[1;32m    159\u001b[0m                                                                 hyperparams)\n\u001b[1;32m    160\u001b[0m \u001b[0;34m\u001b[0m\u001b[0m\n",
      "\u001b[0;31mKeyError\u001b[0m: 'min_future_timesteps'"
     ]
    }
   ],
   "source": [
    "for i in range(1):\n",
    "    data_item = next(dataset_iter)"
   ]
  },
  {
   "cell_type": "code",
   "execution_count": null,
   "id": "1b55918d",
   "metadata": {},
   "outputs": [],
   "source": []
  }
 ],
 "metadata": {
  "kernelspec": {
   "display_name": "Python 3",
   "language": "python",
   "name": "python3"
  },
  "language_info": {
   "codemirror_mode": {
    "name": "ipython",
    "version": 3
   },
   "file_extension": ".py",
   "mimetype": "text/x-python",
   "name": "python",
   "nbconvert_exporter": "python",
   "pygments_lexer": "ipython3",
   "version": "3.6.13"
  }
 },
 "nbformat": 4,
 "nbformat_minor": 5
}
